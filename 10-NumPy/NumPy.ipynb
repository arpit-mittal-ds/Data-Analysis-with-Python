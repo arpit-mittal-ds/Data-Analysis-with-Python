{
  "nbformat": 4,
  "nbformat_minor": 0,
  "metadata": {
    "colab": {
      "name": "Untitled0.ipynb",
      "provenance": [],
      "collapsed_sections": [],
      "authorship_tag": "ABX9TyPCWRS1pF1Z0Sloj2u2QYGG",
      "include_colab_link": true
    },
    "kernelspec": {
      "name": "python3",
      "display_name": "Python 3"
    },
    "language_info": {
      "name": "python"
    }
  },
  "cells": [
    {
      "cell_type": "markdown",
      "metadata": {
        "id": "view-in-github",
        "colab_type": "text"
      },
      "source": [
        "<a href=\"https://colab.research.google.com/github/arpit-mittal-ds/Data-Analysis-with-Python/blob/master/10-NumPy/NumPy.ipynb\" target=\"_parent\"><img src=\"https://colab.research.google.com/assets/colab-badge.svg\" alt=\"Open In Colab\"/></a>"
      ]
    },
    {
      "cell_type": "markdown",
      "metadata": {
        "id": "cfENZVgfPiQt"
      },
      "source": [
        "# Why Use NumPy\n",
        "\n",
        "You may be wondering why people use NumPy - after all, Python can handle lists\n",
        "\n",
        "## Benefits of using NumPy\n",
        "Even though Python lists are great on their own, NumPy has a number of key features that give it great advantages over Python lists. \n",
        "\n",
        "### Below are a few convincingly strong features:\n",
        "\n",
        "**1. Speed:**  When performing operations on large arrays NumPy can often perform several orders of magnitude faster than Python lists. This speed comes from the nature of **NumPy arrays being memory-efficient and from optimized algorithms** used by NumPy for doing arithmetic, statistical, and linear algebra operations.\n",
        "\n",
        "2. **Multidimensional array data structures** that can represent vectors and matrices. A lot of machine learning algorithms rely on matrix operations. \n",
        "For example, when training a Neural Network, you often have to carry out many matrix multiplications. NumPy is optimized for matrix operations and it allows us to do Linear Algebra operations effectively and efficiently, making it very suitable for solving machine learning problems.\n",
        "\n",
        "3. NumPy has a large number of **optimized built-in mathematical functions**. These functions allow you to do a variety of complex mathematical computations very fast and with very little code (avoiding the use of complicated loops) making your programs more readable and easier to understand.\n",
        "\n",
        "These are just some of the key features that have made NumPy an essential package for scientific computing in Python. In fact, NumPy has become so popular that **a lot of Python packages, such as Pandas, are built on top of NumPy.**"
      ]
    },
    {
      "cell_type": "code",
      "metadata": {
        "id": "kYe9EbJHPN1Q"
      },
      "source": [
        "import time\n",
        "import numpy as np\n",
        "x = np.random.random(100000000)\n"
      ],
      "execution_count": 4,
      "outputs": []
    },
    {
      "cell_type": "code",
      "metadata": {
        "colab": {
          "base_uri": "https://localhost:8080/"
        },
        "id": "mqH9ISBeRIyt",
        "outputId": "25f4233f-d1b9-44db-b3a3-b8e4cceccdea"
      },
      "source": [
        "# Case 1\n",
        "start = time.time()\n",
        "sum(x) / len(x)\n",
        "print(time.time() - start)"
      ],
      "execution_count": 5,
      "outputs": [
        {
          "output_type": "stream",
          "text": [
            "16.03941321372986\n"
          ],
          "name": "stdout"
        }
      ]
    },
    {
      "cell_type": "code",
      "metadata": {
        "colab": {
          "base_uri": "https://localhost:8080/"
        },
        "id": "t86cDaBdP-WV",
        "outputId": "efa4465e-5854-4c5b-b0c0-c6c3441d0994"
      },
      "source": [
        "# Case 2\n",
        "start = time.time()\n",
        "np.mean(x)\n",
        "print(time.time() - start)"
      ],
      "execution_count": 6,
      "outputs": [
        {
          "output_type": "stream",
          "text": [
            "0.0796651840209961\n"
          ],
          "name": "stdout"
        }
      ]
    },
    {
      "cell_type": "markdown",
      "metadata": {
        "id": "dNNvh3H1Vpdt"
      },
      "source": [
        "At the core of NumPy is the **ndarray**, where nd stands for **n-dimensional**. \n",
        "\n",
        "An ndarray is a multidimensional array of elements ***all of the same type***. \n",
        "\n",
        "In other words, an ndarray is a grid that can take on many shapes and can hold **either numbers or strings**. \n",
        "\n",
        "In many Machine Learning problems you will often find yourself using ndarrays in many different ways. For instance, you might **use an ndarray to hold the pixel values of an image** that will be fed into a Neural Network for image classification.\n",
        "\n",
        "But before we can dive in and start using NumPy to create ndarrays we need to import it into Python. We can import packages into Python using the import command and it has become a **convention to import NumPy as np**. Therefore, you can import NumPy by typing the following command in your Jupyter notebook:\n",
        "**import numpy as np**\n",
        "\n",
        "There are several ways to create ndarrays in NumPy. In the following lessons we will see two ways to create ndarrays:\n",
        "\n",
        "Using regular Python lists\n",
        "\n",
        "Using built-in NumPy functions\n",
        "\n",
        "In this section, we will create ndarrays by providing Python lists to the NumPy np.array() function. This can create some confusion for beginners, but it is important to remember that np.array() is NOT a class, it is just a function that returns an ndarray. We should note that for the purposes of clarity, the examples throughout these lessons will use small and simple ndarrays. Let's start by creating 1-Dimensional (1D) ndarrays."
      ]
    },
    {
      "cell_type": "markdown",
      "metadata": {
        "id": "yTBxgbHzYBpw"
      },
      "source": [
        ""
      ]
    },
    {
      "cell_type": "code",
      "metadata": {
        "id": "Li39OMfgP_9n"
      },
      "source": [
        ""
      ],
      "execution_count": null,
      "outputs": []
    }
  ]
}