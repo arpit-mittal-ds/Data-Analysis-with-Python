{
  "nbformat": 4,
  "nbformat_minor": 0,
  "metadata": {
    "colab": {
      "name": "1-creating-and-saving-numpy-ndarrays.ipynb",
      "provenance": [],
      "collapsed_sections": [],
      "authorship_tag": "ABX9TyOjZxKoj9XVEdYPyhF1xuNY",
      "include_colab_link": true
    },
    "kernelspec": {
      "name": "python3",
      "display_name": "Python 3"
    },
    "language_info": {
      "name": "python"
    }
  },
  "cells": [
    {
      "cell_type": "markdown",
      "metadata": {
        "id": "view-in-github",
        "colab_type": "text"
      },
      "source": [
        "<a href=\"https://colab.research.google.com/github/arpit-mittal-ds/Data-Analysis-with-Python/blob/master/10-NumPy/1_creating_and_saving_numpy_ndarrays.ipynb\" target=\"_parent\"><img src=\"https://colab.research.google.com/assets/colab-badge.svg\" alt=\"Open In Colab\"/></a>"
      ]
    },
    {
      "cell_type": "markdown",
      "metadata": {
        "id": "cfENZVgfPiQt"
      },
      "source": [
        "# Why Use NumPy\n",
        "\n",
        "You may be wondering why people use NumPy - after all, Python can handle lists\n",
        "\n",
        "## Benefits of using NumPy\n",
        "Even though Python lists are great on their own, NumPy has a number of key features that give it great advantages over Python lists. \n",
        "\n",
        "### Below are a few convincingly strong features:\n",
        "\n",
        "**1. Speed:**  When performing operations on large arrays NumPy can often perform several orders of magnitude faster than Python lists. This speed comes from the nature of **NumPy arrays being memory-efficient and from optimized algorithms** used by NumPy for doing arithmetic, statistical, and linear algebra operations.\n",
        "\n",
        "2. **Multidimensional array data structures** that can represent vectors and matrices. A lot of machine learning algorithms rely on matrix operations. \n",
        "For example, when training a Neural Network, you often have to carry out many matrix multiplications. NumPy is optimized for matrix operations and it allows us to do Linear Algebra operations effectively and efficiently, making it very suitable for solving machine learning problems.\n",
        "\n",
        "3. NumPy has a large number of **optimized built-in mathematical functions**. These functions allow you to do a variety of complex mathematical computations very fast and with very little code (avoiding the use of complicated loops) making your programs more readable and easier to understand.\n",
        "\n",
        "These are just some of the key features that have made NumPy an essential package for scientific computing in Python. In fact, NumPy has become so popular that **a lot of Python packages, such as Pandas, are built on top of NumPy.**"
      ]
    },
    {
      "cell_type": "code",
      "metadata": {
        "id": "kYe9EbJHPN1Q"
      },
      "source": [
        "import time\n",
        "import numpy as np\n",
        "x = np.random.random(100000000)\n"
      ],
      "execution_count": null,
      "outputs": []
    },
    {
      "cell_type": "code",
      "metadata": {
        "colab": {
          "base_uri": "https://localhost:8080/"
        },
        "id": "mqH9ISBeRIyt",
        "outputId": "ca2c7c9a-1c0f-41c2-8280-09a636e46dee"
      },
      "source": [
        "# Case 1\n",
        "start = time.time()\n",
        "sum(x) / len(x)\n",
        "print(time.time() - start)"
      ],
      "execution_count": null,
      "outputs": [
        {
          "output_type": "stream",
          "text": [
            "16.74370288848877\n"
          ],
          "name": "stdout"
        }
      ]
    },
    {
      "cell_type": "code",
      "metadata": {
        "colab": {
          "base_uri": "https://localhost:8080/"
        },
        "id": "t86cDaBdP-WV",
        "outputId": "a4419333-bc9c-4adc-c138-d01b8b69915b"
      },
      "source": [
        "# Case 2\n",
        "start = time.time()\n",
        "np.mean(x)\n",
        "print(time.time() - start)"
      ],
      "execution_count": null,
      "outputs": [
        {
          "output_type": "stream",
          "text": [
            "0.07150959968566895\n"
          ],
          "name": "stdout"
        }
      ]
    },
    {
      "cell_type": "markdown",
      "metadata": {
        "id": "dNNvh3H1Vpdt"
      },
      "source": [
        "At the core of NumPy is the **ndarray**, where nd stands for **n-dimensional**. \n",
        "\n",
        "An ndarray is a multidimensional array of elements ***all of the same type***. \n",
        "\n",
        "In other words, an ndarray is a grid that can take on many shapes and can hold **either numbers or strings**. \n",
        "\n",
        "In many Machine Learning problems you will often find yourself using ndarrays in many different ways. For instance, you might **use an ndarray to hold the pixel values of an image** that will be fed into a Neural Network for image classification.\n",
        "\n",
        "But before we can dive in and start using NumPy to create ndarrays we need to import it into Python. We can import packages into Python using the import command and it has become a **convention to import NumPy as np**. Therefore, you can import NumPy by typing the following command in your Jupyter notebook:\n",
        "**import numpy as np**\n"
      ]
    },
    {
      "cell_type": "markdown",
      "metadata": {
        "id": "7jzn3PPmoAz1"
      },
      "source": [
        "\n",
        "**There are several ways to create ndarrays in NumPy**. In the following lessons we will see two ways to create ndarrays:\n",
        "\n",
        "**Using regular Python lists**\n",
        "\n",
        "**Using built-in NumPy functions **\n",
        "\n",
        "In this section, we will create ndarrays by **providing Python lists to the NumPy np.array() function.** \n",
        "\n",
        "It is important to remember that np.array() is NOT a class, it is just a function that returns an ndarray. "
      ]
    },
    {
      "cell_type": "code",
      "metadata": {
        "colab": {
          "base_uri": "https://localhost:8080/"
        },
        "id": "Yhn-YXBAoXJD",
        "outputId": "cdf4246e-6853-498d-8e7d-009157fb4b99"
      },
      "source": [
        "# We import NumPy into Python\n",
        "import numpy as np\n",
        "\n",
        "# We create a 1D ndarray that contains only integers\n",
        "x = np.array([1, 2, 3, 4, 5])\n",
        "\n",
        "# Let's print the ndarray we just created using the print() command\n",
        "print('x = ', x)"
      ],
      "execution_count": null,
      "outputs": [
        {
          "output_type": "stream",
          "text": [
            "x =  [1 2 3 4 5]\n"
          ],
          "name": "stdout"
        }
      ]
    },
    {
      "cell_type": "markdown",
      "metadata": {
        "id": "5IrQwLDTohBD"
      },
      "source": [
        "### Rank of an Array (numpy.ndarray.ndim)\n",
        "Syntax:\n",
        "\n",
        "ndarray.ndim\n",
        "It returns the **number of array dimensions**.\n",
        "\n",
        "Let's pause for a second to introduce some useful terminology. We refer to **1D arrays as rank 1 arrays.** In general **N-Dimensional arrays have rank N.** Therefore, we refer to a 2D array as a rank 2 array."
      ]
    },
    {
      "cell_type": "code",
      "metadata": {
        "colab": {
          "base_uri": "https://localhost:8080/"
        },
        "id": "RCWXx_9Poqsd",
        "outputId": "f7d87269-c33b-4edc-9c57-a3d5369941e7"
      },
      "source": [
        "# 1-D array\n",
        "x = np.array([1, 2, 3])\n",
        "x.ndim\n"
      ],
      "execution_count": null,
      "outputs": [
        {
          "output_type": "execute_result",
          "data": {
            "text/plain": [
              "1"
            ]
          },
          "metadata": {
            "tags": []
          },
          "execution_count": 6
        }
      ]
    },
    {
      "cell_type": "code",
      "metadata": {
        "colab": {
          "base_uri": "https://localhost:8080/"
        },
        "id": "M797kyx1qvj2",
        "outputId": "976270af-17d8-46f9-8b87-ff1a79edec47"
      },
      "source": [
        "# 2-D array\n",
        "Y = np.array([[1,2,3],[4,5,6],[7,8,9], [10,11,12]])\n",
        "Y.ndim"
      ],
      "execution_count": null,
      "outputs": [
        {
          "output_type": "execute_result",
          "data": {
            "text/plain": [
              "2"
            ]
          },
          "metadata": {
            "tags": []
          },
          "execution_count": 7
        }
      ]
    },
    {
      "cell_type": "code",
      "metadata": {
        "colab": {
          "base_uri": "https://localhost:8080/"
        },
        "id": "UfsKsXTEoZMy",
        "outputId": "d5b5be1f-5d49-4257-aff6-8146ea9c7d27"
      },
      "source": [
        "# Here the`zeros()` is an inbuilt function \n",
        "# The tuple (2, 3, 4( passed as an argument represents the shape of the ndarray\n",
        "y = np.zeros((2, 3, 4))\n",
        "y.ndim"
      ],
      "execution_count": null,
      "outputs": [
        {
          "output_type": "execute_result",
          "data": {
            "text/plain": [
              "3"
            ]
          },
          "metadata": {
            "tags": []
          },
          "execution_count": 8
        }
      ]
    },
    {
      "cell_type": "code",
      "metadata": {
        "colab": {
          "base_uri": "https://localhost:8080/"
        },
        "id": "kqOELscBzNrW",
        "outputId": "52b76c2f-cb23-4e64-b77c-742e1a3d811e"
      },
      "source": [
        "print(y)"
      ],
      "execution_count": null,
      "outputs": [
        {
          "output_type": "stream",
          "text": [
            "[[[0. 0. 0. 0.]\n",
            "  [0. 0. 0. 0.]\n",
            "  [0. 0. 0. 0.]]\n",
            "\n",
            " [[0. 0. 0. 0.]\n",
            "  [0. 0. 0. 0.]\n",
            "  [0. 0. 0. 0.]]]\n"
          ],
          "name": "stdout"
        }
      ]
    },
    {
      "cell_type": "markdown",
      "metadata": {
        "id": "WjC6etxJzjjN"
      },
      "source": [
        "## numpy.ndarray.shape\n",
        "\n",
        "It returns a tuple representing the array dimensions\n",
        "\n",
        "[ndarray.shape](https://numpy.org/doc/stable/reference/generated/numpy.ndarray.shape.html#numpy-ndarray-shape)\n",
        "\n",
        "[shape](https://numpy.org/devdocs/reference/generated/numpy.shape.html)\n",
        "\n",
        "**The shape of an array is the size along each of its dimensions. **For example, the shape of a rank 2 array will correspond to the number of rows and columns of the array. As you will see, NumPy ndarrays have attributes that allow us to get information about them in a very intuitive way. For example, the shape of an ndarray can be obtained using the .shape attribute. The shape attribute returns a tuple of N positive integers that specify the sizes of each dimension.\n",
        "\n",
        "\n"
      ]
    },
    {
      "cell_type": "markdown",
      "metadata": {
        "id": "REdQdBar0Eri"
      },
      "source": [
        "### numpy.dtype\n",
        "The [type](https://numpy.org/doc/stable/reference/arrays.dtypes.html) tells us the data-type of the elements. Remember, a NumPy array is homogeneous, meaning all elements will have the same data-type. In the example below, we will create a rank 1 array and learn how to obtain its shape, its type, and the data-type (dtype) of its elements.\n"
      ]
    },
    {
      "cell_type": "code",
      "metadata": {
        "colab": {
          "base_uri": "https://localhost:8080/"
        },
        "id": "Lf5v19Y80P3E",
        "outputId": "4567db4f-c62b-4dcf-ce09-e98be03a7c70"
      },
      "source": [
        "# We create a 1D ndarray that contains only integers\n",
        "x = np.array([1, 2, 3, 4, 5])\n",
        "\n",
        "# We print information about x\n",
        "print('x = ', x)\n",
        "print('x has dimensions:', x.shape)\n",
        "print('x is an object of type:', type(x))\n",
        "print('The elements in x are of type:', x.dtype)"
      ],
      "execution_count": null,
      "outputs": [
        {
          "output_type": "stream",
          "text": [
            "x =  [1 2 3 4 5]\n",
            "x has dimensions: (5,)\n",
            "x is an object of type: <class 'numpy.ndarray'>\n",
            "The elements in x are of type: int64\n"
          ],
          "name": "stdout"
        }
      ]
    },
    {
      "cell_type": "markdown",
      "metadata": {
        "id": "N3biBErV0dh2"
      },
      "source": [
        "We can see that the shape attribute returns the tuple (5,) telling us that x is of rank 1 (i.e. x only has 1 dimension ) and it has 5 elements. The type() function tells us that x is indeed a NumPy ndarray. Finally, the .dtype attribute tells us that the elements of x are stored in memory as signed 64-bit integers. Another great advantage of NumPy is that it can handle more data-types than Python lists. \n",
        "\n",
        "[NumPy Data Types](https://docs.scipy.org/doc/numpy-1.13.0/user/basics.types.html)"
      ]
    },
    {
      "cell_type": "code",
      "metadata": {
        "colab": {
          "base_uri": "https://localhost:8080/"
        },
        "id": "FpFn6Tbw0sL6",
        "outputId": "6ed9a890-d47e-4666-bc05-7f0e45a0d7a6"
      },
      "source": [
        "# We create a rank 1 ndarray that only contains strings\n",
        "x = np.array(['Hello', 'World'])\n",
        "\n",
        "# We print information about x\n",
        "print('x = ', x)\n",
        "print('x has dimensions:', x.shape)\n",
        "print('x is an object of type:', type(x))\n",
        "print('The elements in x are of type:', x.dtype)"
      ],
      "execution_count": null,
      "outputs": [
        {
          "output_type": "stream",
          "text": [
            "x =  ['Hello' 'World']\n",
            "x has dimensions: (2,)\n",
            "x is an object of type: <class 'numpy.ndarray'>\n",
            "The elements in x are of type: <U5\n"
          ],
          "name": "stdout"
        }
      ]
    },
    {
      "cell_type": "markdown",
      "metadata": {
        "id": "uhrBnwp61q6C"
      },
      "source": [
        "As we can see the shape attribute tells us that x now has only 2 elements, and even though x now holds strings, the type() function tells us that x is still an ndarray as before. In this case however, the .dtype attribute tells us that the elements in x are stored in memory as Unicode strings of 5 characters.\n",
        "\n",
        "\n",
        "It is important to remember that one big difference between Python lists and ndarrays, is that unlike Python lists, **all the elements of an ndarray must be of the same type**. So, while we can create Python lists with both integers and strings, we can't mix types in ndarrays. If you provide the np.array() function with a Python list that has both integers and strings, NumPy will interpret all elements as strings. We can see this in the next example:"
      ]
    },
    {
      "cell_type": "code",
      "metadata": {
        "colab": {
          "base_uri": "https://localhost:8080/"
        },
        "id": "FkF0Zkow1uVa",
        "outputId": "49892fff-313d-4854-9972-fab504e9981c"
      },
      "source": [
        "# We create a rank 1 ndarray from a Python list that contains integers and strings\n",
        "x = np.array([1, 2, 'World'])\n",
        "\n",
        "# We print information about x\n",
        "print('x = ', x)\n",
        "print('x has dimensions:', x.shape)\n",
        "print('x is an object of type:', type(x))\n",
        "print('The elements in x are of type:', x.dtype)"
      ],
      "execution_count": null,
      "outputs": [
        {
          "output_type": "stream",
          "text": [
            "x =  ['1' '2' 'World']\n",
            "x has dimensions: (3,)\n",
            "x is an object of type: <class 'numpy.ndarray'>\n",
            "The elements in x are of type: <U21\n"
          ],
          "name": "stdout"
        }
      ]
    },
    {
      "cell_type": "markdown",
      "metadata": {
        "id": "KkjNhfEl135m"
      },
      "source": [
        "We can see that even though the Python list had mixed data types, the elements in x are all of the same type, namely, Unicode strings of 21 characters. "
      ]
    },
    {
      "cell_type": "markdown",
      "metadata": {
        "id": "Cl_x9qhb17y9"
      },
      "source": [
        "### Using a 1-D Array to Demonstrate Upcasting in Numeric datatype\n",
        "\n",
        "Up till now, we have only created ndarrays with integers and strings. We saw that when we create an ndarray with only integers, NumPy will automatically assign the dtype int64 to its elements. Let's see what happens when we create ndarrays with floats and integers."
      ]
    },
    {
      "cell_type": "code",
      "metadata": {
        "colab": {
          "base_uri": "https://localhost:8080/"
        },
        "id": "mtpoIyIB1-ZB",
        "outputId": "c947f546-18f2-4de0-9daa-ed85adbaf596"
      },
      "source": [
        "# We create a rank 1 ndarray that contains integers\n",
        "x = np.array([1,2,3])\n",
        "\n",
        "# We create a rank 1 ndarray that contains floats\n",
        "y = np.array([1.0,2.0,3.0])\n",
        "\n",
        "# We create a rank 1 ndarray that contains integers and floats\n",
        "z = np.array([1, 2.5, 4])\n",
        "\n",
        "# We print the dtype of each ndarray\n",
        "print('The elements in x are of type:', x.dtype)\n",
        "print('The elements in y are of type:', y.dtype)\n",
        "print('The elements in z are of type:', z.dtype)"
      ],
      "execution_count": null,
      "outputs": [
        {
          "output_type": "stream",
          "text": [
            "The elements in x are of type: int64\n",
            "The elements in y are of type: float64\n",
            "The elements in z are of type: float64\n"
          ],
          "name": "stdout"
        }
      ]
    },
    {
      "cell_type": "markdown",
      "metadata": {
        "id": "vnnAfZMW2N-6"
      },
      "source": [
        "notice that when we create an ndarray with both floats and integers, as we did with the z ndarray above, NumPy assigns its elements a float64 dtype as well. **This is called upcasting.** Since all the elements of an ndarray must be of the same type, in this case NumPy upcasts the integers in z to floats in order to avoid losing precision in numerical computations."
      ]
    },
    {
      "cell_type": "markdown",
      "metadata": {
        "id": "Q5n6tkI82S5l"
      },
      "source": [
        "### Using a 1-D Array of Float, and specifying the dtype of each element\n",
        "\n",
        "Even though NumPy automatically selects the dtype of the ndarray, NumPy also allows you to specify the particular dtype you want to assign to the elements of the ndarray. You can specify the dtype when you create the ndarray using the keyword dtype in the np.array() function. Let's see an example:\n"
      ]
    },
    {
      "cell_type": "code",
      "metadata": {
        "colab": {
          "base_uri": "https://localhost:8080/"
        },
        "id": "2DLf1MMR2U58",
        "outputId": "e377cf41-ac6d-44df-e3c9-93756792275a"
      },
      "source": [
        "# We create a rank 1 ndarray of floats but set the dtype to int64\n",
        "x = np.array([1.5, 2.2, 3.7, 4.0, 5.9], dtype = np.int64)\n",
        "\n",
        "# We print the dtype x\n",
        "print('x = ', x)\n",
        "print('The elements in x are of type:', x.dtype)"
      ],
      "execution_count": null,
      "outputs": [
        {
          "output_type": "stream",
          "text": [
            "x =  [1 2 3 4 5]\n",
            "The elements in x are of type: int64\n"
          ],
          "name": "stdout"
        }
      ]
    },
    {
      "cell_type": "markdown",
      "metadata": {
        "id": "yDE5qve3faKY"
      },
      "source": [
        "We can see that even though we created the ndarray with floats, by specifying the dtype to be int64, NumPy converted the floating point numbers into integers by removing their decimals. Specifying the data type of the ndarray can be useful in cases when you don't want NumPy to accidentally choose the wrong data type, or when you only need certain amount of precision in your calculations and you want to save memory.\n",
        "\n",
        "## numpy.ndarray.size and Creating a 2-D array\n",
        "\n",
        "Another useful attribute is [NumPy.size](https://numpy.org/doc/stable/reference/generated/numpy.ndarray.size.html), which returns the number of elements in the array. Let us now look at how we can create a rank 2 ndarray from a nested Python list.\n",
        "\n"
      ]
    },
    {
      "cell_type": "code",
      "metadata": {
        "colab": {
          "base_uri": "https://localhost:8080/"
        },
        "id": "VKRAdQTrfxMf",
        "outputId": "02e9e233-9621-4a43-a8d0-b63546794ec2"
      },
      "source": [
        "# We create a rank 2 ndarray that only contains integers\n",
        "Y = np.array([[1,2,3],[4,5,6],[7,8,9], [10,11,12]])\n",
        "\n",
        "print('Y = \\n', Y)\n",
        "\n",
        "# We print information about Y\n",
        "print('Y has dimensions:', Y.shape)\n",
        "print('Y has a total of', Y.size, 'elements')\n",
        "print('Y is an object of type:', type(Y))\n",
        "print('The elements in Y are of type:', Y.dtype)"
      ],
      "execution_count": null,
      "outputs": [
        {
          "output_type": "stream",
          "text": [
            "Y = \n",
            " [[ 1  2  3]\n",
            " [ 4  5  6]\n",
            " [ 7  8  9]\n",
            " [10 11 12]]\n",
            "Y has dimensions: (4, 3)\n",
            "Y has a total of 12 elements\n",
            "Y is an object of type: <class 'numpy.ndarray'>\n",
            "The elements in Y are of type: int64\n"
          ],
          "name": "stdout"
        }
      ]
    },
    {
      "cell_type": "markdown",
      "metadata": {
        "id": "1TjSsRDFf9uv"
      },
      "source": [
        "We can see that now the shape attribute returns the tuple (4,3) telling us that Y is of rank 2 and it has 4 rows and 3 columns. The .size attribute tells us that Y has a total of 12 elements.\n",
        "\n",
        "Notice that when NumPy creates an ndarray it automatically assigns its dtype based on the type of the elements you used to create the ndarray.\n",
        "\n",
        "Save the NumPy array to a File\n",
        "Once you create an ndarray, you may want to save it to a file to be read later or to be used by another program. NumPy provides a way to save the arrays into files for later use - let's see how this is done.\n",
        "\n",
        "Example 3 - Save the NumPy array to a File"
      ]
    },
    {
      "cell_type": "code",
      "metadata": {
        "id": "AyxQqg4Kjnu-"
      },
      "source": [
        "# We create a rank 1 ndarray\n",
        "x = np.array([1, 2, 3, 4, 5])\n",
        "\n",
        "# We save x into the current directory as \n",
        "np.save('my_array', x)"
      ],
      "execution_count": null,
      "outputs": []
    },
    {
      "cell_type": "markdown",
      "metadata": {
        "id": "PkiNjBhJkyCr"
      },
      "source": [
        "The above saves the x ndarray into a file named my_array.npy. You can load the saved ndarray into a variable by using the load() function."
      ]
    },
    {
      "cell_type": "code",
      "metadata": {
        "colab": {
          "base_uri": "https://localhost:8080/"
        },
        "id": "CL3MfoODkzN_",
        "outputId": "25694726-499a-487c-a2c4-ca5b963f871e"
      },
      "source": [
        "# We load the saved array from our current directory into variable y\n",
        "y = np.load('my_array.npy')\n",
        "\n",
        "# We print y\n",
        "print()\n",
        "print('y = ', y)\n",
        "print()\n",
        "\n",
        "# We print information about the ndarray we loaded\n",
        "print('y is an object of type:', type(y))\n",
        "print('The elements in y are of type:', y.dtype)"
      ],
      "execution_count": null,
      "outputs": [
        {
          "output_type": "stream",
          "text": [
            "\n",
            "y =  [1 2 3 4 5]\n",
            "\n",
            "y is an object of type: <class 'numpy.ndarray'>\n",
            "The elements in y are of type: int64\n"
          ],
          "name": "stdout"
        }
      ]
    },
    {
      "cell_type": "markdown",
      "metadata": {
        "id": "Hinu9snvwpQH"
      },
      "source": [
        "When loading an array from a file, make sure you include the name of the file together with the extension .npy, otherwise you will get an error.\n",
        "\n",
        "More Examples [NumPy.org - How to create a basic array](https://numpy.org/devdocs/user/absolute_beginners.html#how-to-create-a-basic-array)\n"
      ]
    }
  ]
}